{
  "nbformat": 4,
  "nbformat_minor": 0,
  "metadata": {
    "colab": {
      "name": "TSAI_END_Assignment3.ipynb",
      "provenance": [],
      "authorship_tag": "ABX9TyMXPegjErg6AuwZTYXmY9tV",
      "include_colab_link": true
    },
    "kernelspec": {
      "name": "python3",
      "display_name": "Python 3"
    }
  },
  "cells": [
    {
      "cell_type": "markdown",
      "metadata": {
        "id": "view-in-github",
        "colab_type": "text"
      },
      "source": [
        "<a href=\"https://colab.research.google.com/github/iamrajeswar59/TSAI_END_Learning/blob/master/public/week%203/TSAI_END_Assignment3.ipynb\" target=\"_parent\"><img src=\"https://colab.research.google.com/assets/colab-badge.svg\" alt=\"Open In Colab\"/></a>"
      ]
    },
    {
      "cell_type": "markdown",
      "metadata": {
        "id": "EyekSzxl9wA9"
      },
      "source": [
        "**Question 1**\n",
        "\n",
        "\n",
        "Write a function using only list filter lambda that can tell whether a number is a Fibonacci number or not. You can use a pre-calculated list/dict to store fab numbers till 10000"
      ]
    },
    {
      "cell_type": "code",
      "metadata": {
        "id": "5yKZDEdxzZxn"
      },
      "source": [
        "def fibonacci(number):\n",
        "  a, b = 0, 1\n",
        "  list = [a]\n",
        "  while (b) < number:\n",
        "    list.append(b)\n",
        "    a, b = b, (a + b)   \n",
        "  return list"
      ],
      "execution_count": 23,
      "outputs": []
    },
    {
      "cell_type": "code",
      "metadata": {
        "id": "zUDXfi610Zvh",
        "outputId": "9713326a-2732-4b3f-c413-ecf9d7d97034",
        "colab": {
          "base_uri": "https://localhost:8080/"
        }
      },
      "source": [
        "#test function\n",
        "fib_numbers = fibonacci(10000)\n",
        "print(fib_numbers)"
      ],
      "execution_count": 24,
      "outputs": [
        {
          "output_type": "stream",
          "text": [
            "[0, 1, 1, 2, 3, 5, 8, 13, 21, 34, 55, 89, 144, 233, 377, 610, 987, 1597, 2584, 4181, 6765]\n"
          ],
          "name": "stdout"
        }
      ]
    },
    {
      "cell_type": "code",
      "metadata": {
        "id": "RDeTlLN31IN4"
      },
      "source": [
        "# Write a function using only list filter lambda that can tell whether a number is a Fibonacci number or not. You can use a pre-calculated list/dict to store fab numbers till 10000 \n",
        "\n",
        "def isGivenNumberFibonacci(given_number):\n",
        "  match_list = list(filter(lambda x: x == given_number, fib_numbers))\n",
        "  if len(match_list) > 0:\n",
        "    return True\n",
        "  return False"
      ],
      "execution_count": 30,
      "outputs": []
    },
    {
      "cell_type": "code",
      "metadata": {
        "id": "CgcZq4zk49l1",
        "outputId": "0c90b5f9-c0f0-4ac6-b907-c4a31cc77b10",
        "colab": {
          "base_uri": "https://localhost:8080/"
        }
      },
      "source": [
        "testPositive = [0, 1, 1, 2, 3, 5, 8, 13, 21, 34, 55, 89, 144, 233, 377, 610, 987, 1597, 2584, 4181, 6765]\n",
        "testNegative = [4,6,9,10,11,12]\n",
        "for item in testPositive:\n",
        "  print(\"given number:\",item,\" is \",isGivenNumberFibonacci(item))\n",
        "for item in testNegative:\n",
        "  print(\"given number:\",item,\" is \",isGivenNumberFibonacci(item))"
      ],
      "execution_count": 35,
      "outputs": [
        {
          "output_type": "stream",
          "text": [
            "given number: 0  is  True\n",
            "given number: 1  is  True\n",
            "given number: 1  is  True\n",
            "given number: 2  is  True\n",
            "given number: 3  is  True\n",
            "given number: 5  is  True\n",
            "given number: 8  is  True\n",
            "given number: 13  is  True\n",
            "given number: 21  is  True\n",
            "given number: 34  is  True\n",
            "given number: 55  is  True\n",
            "given number: 89  is  True\n",
            "given number: 144  is  True\n",
            "given number: 233  is  True\n",
            "given number: 377  is  True\n",
            "given number: 610  is  True\n",
            "given number: 987  is  True\n",
            "given number: 1597  is  True\n",
            "given number: 2584  is  True\n",
            "given number: 4181  is  True\n",
            "given number: 6765  is  True\n",
            "given number: 4  is  False\n",
            "given number: 6  is  False\n",
            "given number: 9  is  False\n",
            "given number: 10  is  False\n",
            "given number: 11  is  False\n",
            "given number: 12  is  False\n"
          ],
          "name": "stdout"
        }
      ]
    },
    {
      "cell_type": "markdown",
      "metadata": {
        "id": "xt9vrVLq6OjG"
      },
      "source": [
        "**Question 2:**\n",
        "Using list comprehension (and zip/ lambda /etc if required) write five different expressions that\n",
        "\n",
        "    2.1. add 2 iterables a and b such that a is even and b is odd\n",
        "    2.2. strips every vowel from a string provided (tsai>>t s)\n",
        "    2.3. acts like a ReLU function for a 1D array\n",
        "    2.4. acts like a sigmoid function for a 1D array\n",
        "    2.5. takes a small character string and shifts all characters by 5 (handle boundary conditions) tsai>>*yxfn*\n"
      ]
    },
    {
      "cell_type": "code",
      "metadata": {
        "id": "qi02sLbE550t"
      },
      "source": [
        "## 2.1\n",
        "def add_two_iterables(a,b):\n",
        "  even = list(filter(lambda x: x%2 == 0, a))\n",
        "  odd  = list(filter(lambda x: x%2 ==1, b))\n",
        "  c = list(map(lambda x, y: x + y, even, odd))\n",
        "  return c"
      ],
      "execution_count": 36,
      "outputs": []
    },
    {
      "cell_type": "code",
      "metadata": {
        "id": "Vg3j1BFq6KXb",
        "outputId": "866922b1-0c64-4e43-9977-e7c350468839",
        "colab": {
          "base_uri": "https://localhost:8080/"
        }
      },
      "source": [
        "## 2.1 test\n",
        "a = [1,2,3,4,5,6]\n",
        "b = [1,2,3,4,5,6]\n",
        "c = add_two_iterables(a,b)\n",
        "print(c)"
      ],
      "execution_count": 37,
      "outputs": [
        {
          "output_type": "stream",
          "text": [
            "[3, 7, 11]\n"
          ],
          "name": "stdout"
        }
      ]
    },
    {
      "cell_type": "code",
      "metadata": {
        "id": "dmLHL3VZ7oi2"
      },
      "source": [
        "## 2.2\n",
        "def remove_vowels(given_string):\n",
        "  result = list(filter(lambda x: x.lower() not in ['a', 'e', 'i', 'o', 'u'], given_string))\n",
        "  return \"\".join(x for x in result)"
      ],
      "execution_count": 61,
      "outputs": []
    },
    {
      "cell_type": "code",
      "metadata": {
        "id": "dFrcmCb78NAk",
        "outputId": "8068ae65-8ee8-4ca6-9d84-b44b7c1017cb",
        "colab": {
          "base_uri": "https://localhost:8080/"
        }
      },
      "source": [
        "## 2.2 test\n",
        "print(remove_vowels(\"tsai\"))"
      ],
      "execution_count": 62,
      "outputs": [
        {
          "output_type": "stream",
          "text": [
            "ts\n"
          ],
          "name": "stdout"
        }
      ]
    },
    {
      "cell_type": "code",
      "metadata": {
        "id": "dFLiO2Z98Zq1"
      },
      "source": [
        "## 2.3 \n",
        "def relu_1d_list(given_1d_list):\n",
        "  return [x if x>0 else 0 for x in given_1d_list]"
      ],
      "execution_count": 50,
      "outputs": []
    },
    {
      "cell_type": "code",
      "metadata": {
        "id": "udfr7wvX8quW",
        "outputId": "1bc8a94b-847c-401c-d767-c6e52eae5945",
        "colab": {
          "base_uri": "https://localhost:8080/"
        }
      },
      "source": [
        "## test 2.3\n",
        "print(relu_1d_list([-1000,-100,-10,-1,0,1,10,100,1000]))"
      ],
      "execution_count": 51,
      "outputs": [
        {
          "output_type": "stream",
          "text": [
            "[0, 0, 0, 0, 0, 1, 10, 100, 1000]\n"
          ],
          "name": "stdout"
        }
      ]
    },
    {
      "cell_type": "code",
      "metadata": {
        "id": "ValzdUWC89jV"
      },
      "source": [
        "## 2.4 \n",
        "import math\n",
        "def sigmoid_1d_list(given_1d_list):\n",
        "  return [1/(1+math.exp(-x)) for x in given_1d_list]"
      ],
      "execution_count": 55,
      "outputs": []
    },
    {
      "cell_type": "code",
      "metadata": {
        "id": "gcveQjmZ9L6V",
        "outputId": "e001b18b-df98-43c3-ef96-720a640998f3",
        "colab": {
          "base_uri": "https://localhost:8080/"
        }
      },
      "source": [
        "## test 2.4\n",
        "print(sigmoid_1d_list([-2,-1, 0, 1,2]))"
      ],
      "execution_count": 60,
      "outputs": [
        {
          "output_type": "stream",
          "text": [
            "[0.11920292202211755, 0.2689414213699951, 0.5, 0.7310585786300049, 0.8807970779778823]\n"
          ],
          "name": "stdout"
        }
      ]
    },
    {
      "cell_type": "code",
      "metadata": {
        "id": "G-zfmJiZ9oBg"
      },
      "source": [
        "## 2.5\n",
        "def rotate(s):\n",
        "  r = [chr(ord(x)+5) if ord(x) < 118 else chr(ord(x)+5 - 26) for x in s.lower()] \n",
        "  return \"\".join(y for y in r)"
      ],
      "execution_count": 67,
      "outputs": []
    },
    {
      "cell_type": "code",
      "metadata": {
        "id": "Abb0DbY0-X7Q",
        "outputId": "43baf03f-824b-4558-8985-51ab353051f8",
        "colab": {
          "base_uri": "https://localhost:8080/"
        }
      },
      "source": [
        "## 2.5 test\n",
        "print(rotate('tsai'))"
      ],
      "execution_count": 66,
      "outputs": [
        {
          "output_type": "stream",
          "text": [
            "yxfn\n"
          ],
          "name": "stdout"
        }
      ]
    },
    {
      "cell_type": "markdown",
      "metadata": {
        "id": "MZl7Ncec-3Mt"
      },
      "source": [
        "**Question 3**\n",
        "\n",
        "\n",
        "A list comprehension expression that takes a ~200 word paragraph (write your own paragraph to check), and checks whether it has any of the swear words mentioned in https://github.com/RobertJGabriel/Google-profanity-words/blob/master/list.txt"
      ]
    },
    {
      "cell_type": "code",
      "metadata": {
        "id": "8LJdx8E5-xw-",
        "outputId": "fc1cc924-a3f3-44b8-be9e-3ce874aa5037",
        "colab": {
          "base_uri": "https://localhost:8080/"
        }
      },
      "source": [
        "import urllib.request as request\n",
        "import csv\n",
        "r = request.urlopen('https://raw.githubusercontent.com/RobertJGabriel/Google-profanity-words/master/list.txt').read().decode('utf8').split(\"\\n\")\n",
        "reader = csv.reader(r)\n",
        "swear_words = [] \n",
        "for line in reader:\n",
        "  swear_words = swear_words + line  \n",
        "print(swear_words)"
      ],
      "execution_count": 68,
      "outputs": [
        {
          "output_type": "stream",
          "text": [
            "['4r5e', '5h1t', '5hit', 'a55', 'anal', 'anus', 'ar5e', 'arrse', 'arse', 'ass', 'ass-fucker', 'asses', 'assfucker', 'assfukka', 'asshole', 'assholes', 'asswhole', 'a_s_s', 'b!tch', 'b00bs', 'b17ch', 'b1tch', 'ballbag', 'balls', 'ballsack', 'bastard', 'beastial', 'beastiality', 'bellend', 'bestial', 'bestiality', 'bi+ch', 'biatch', 'bitch', 'bitcher', 'bitchers', 'bitches', 'bitchin', 'bitching', 'bloody', 'blow job', 'blowjob', 'blowjobs', 'boiolas', 'bollock', 'bollok', 'boner', 'boob', 'boobs', 'booobs', 'boooobs', 'booooobs', 'booooooobs', 'breasts', 'buceta', 'bugger', 'bum', 'bunny fucker', 'butt', 'butthole', 'buttmunch', 'buttplug', 'c0ck', 'c0cksucker', 'carpet muncher', 'cawk', 'chink', 'cipa', 'cl1t', 'clit', 'clitoris', 'clits', 'cnut', 'cock', 'cock-sucker', 'cockface', 'cockhead', 'cockmunch', 'cockmuncher', 'cocks', 'cocksuck ', 'cocksucked ', 'cocksucker', 'cocksucking', 'cocksucks ', 'cocksuka', 'cocksukka', 'cok', 'cokmuncher', 'coksucka', 'coon', 'cox', 'crap', 'cum', 'cummer', 'cumming', 'cums', 'cumshot', 'cunilingus', 'cunillingus', 'cunnilingus', 'cunt', 'cuntlick ', 'cuntlicker ', 'cuntlicking ', 'cunts', 'cyalis', 'cyberfuc', 'cyberfuck ', 'cyberfucked ', 'cyberfucker', 'cyberfuckers', 'cyberfucking ', 'd1ck', 'damn', 'dick', 'dickhead', 'dildo', 'dildos', 'dink', 'dinks', 'dirsa', 'dlck', 'dog-fucker', 'doggin', 'dogging', 'donkeyribber', 'doosh', 'duche', 'dyke', 'ejaculate', 'ejaculated', 'ejaculates ', 'ejaculating ', 'ejaculatings', 'ejaculation', 'ejakulate', 'f u c k', 'f u c k e r', 'f4nny', 'fag', 'fagging', 'faggitt', 'faggot', 'faggs', 'fagot', 'fagots', 'fags', 'fanny', 'fannyflaps', 'fannyfucker', 'fanyy', 'fatass', 'fcuk', 'fcuker', 'fcuking', 'feck', 'fecker', 'felching', 'fellate', 'fellatio', 'fingerfuck ', 'fingerfucked ', 'fingerfucker ', 'fingerfuckers', 'fingerfucking ', 'fingerfucks ', 'fistfuck', 'fistfucked ', 'fistfucker ', 'fistfuckers ', 'fistfucking ', 'fistfuckings ', 'fistfucks ', 'flange', 'fook', 'fooker', 'fuck', 'fucka', 'fucked', 'fucker', 'fuckers', 'fuckhead', 'fuckheads', 'fuckin', 'fucking', 'fuckings', 'fuckingshitmotherfucker', 'fuckme ', 'fucks', 'fuckwhit', 'fuckwit', 'fudge packer', 'fudgepacker', 'fuk', 'fuker', 'fukker', 'fukkin', 'fuks', 'fukwhit', 'fukwit', 'fux', 'fux0r', 'f_u_c_k', 'gangbang', 'gangbanged ', 'gangbangs ', 'gaylord', 'gaysex', 'goatse', 'God', 'god-dam', 'god-damned', 'goddamn', 'goddamned', 'hardcoresex ', 'hell', 'heshe', 'hoar', 'hoare', 'hoer', 'homo', 'hore', 'horniest', 'horny', 'hotsex', 'jack-off ', 'jackoff', 'jap', 'jerk-off ', 'jism', 'jiz ', 'jizm ', 'jizz', 'kawk', 'knob', 'knobead', 'knobed', 'knobend', 'knobhead', 'knobjocky', 'knobjokey', 'kock', 'kondum', 'kondums', 'kum', 'kummer', 'kumming', 'kums', 'kunilingus', 'l3i+ch', 'l3itch', 'labia', 'lmfao', 'lust', 'lusting', 'm0f0', 'm0fo', 'm45terbate', 'ma5terb8', 'ma5terbate', 'masochist', 'master-bate', 'masterb8', 'masterbat*', 'masterbat3', 'masterbate', 'masterbation', 'masterbations', 'masturbate', 'mo-fo', 'mof0', 'mofo', 'mothafuck', 'mothafucka', 'mothafuckas', 'mothafuckaz', 'mothafucked ', 'mothafucker', 'mothafuckers', 'mothafuckin', 'mothafucking ', 'mothafuckings', 'mothafucks', 'mother fucker', 'motherfuck', 'motherfucked', 'motherfucker', 'motherfuckers', 'motherfuckin', 'motherfucking', 'motherfuckings', 'motherfuckka', 'motherfucks', 'muff', 'mutha', 'muthafecker', 'muthafuckker', 'muther', 'mutherfucker', 'n1gga', 'n1gger', 'nazi', 'nigg3r', 'nigg4h', 'nigga', 'niggah', 'niggas', 'niggaz', 'nigger', 'niggers ', 'nob', 'nob jokey', 'nobhead', 'nobjocky', 'nobjokey', 'numbnuts', 'nutsack', 'orgasim ', 'orgasims ', 'orgasm', 'orgasms ', 'p0rn', 'pawn', 'pecker', 'penis', 'penisfucker', 'phonesex', 'phuck', 'phuk', 'phuked', 'phuking', 'phukked', 'phukking', 'phuks', 'phuq', 'pigfucker', 'pimpis', 'piss', 'pissed', 'pisser', 'pissers', 'pisses ', 'pissflaps', 'pissin ', 'pissing', 'pissoff ', 'poop', 'porn', 'porno', 'pornography', 'pornos', 'prick', 'pricks ', 'pron', 'pube', 'pusse', 'pussi', 'pussies', 'pussy', 'pussys ', 'rectum', 'retard', 'rimjaw', 'rimming', 's hit', 's.o.b.', 'sadist', 'schlong', 'screwing', 'scroat', 'scrote', 'scrotum', 'semen', 'sex', 'sh!+', 'sh!t', 'sh1t', 'shag', 'shagger', 'shaggin', 'shagging', 'shemale', 'shi+', 'shit', 'shitdick', 'shite', 'shited', 'shitey', 'shitfuck', 'shitfull', 'shithead', 'shiting', 'shitings', 'shits', 'shitted', 'shitter', 'shitters ', 'shitting', 'shittings', 'shitty ', 'skank', 'slut', 'sluts', 'smegma', 'smut', 'snatch', 'son-of-a-bitch', 'spac', 'spunk', 's_h_i_t', 't1tt1e5', 't1tties', 'teets', 'teez', 'testical', 'testicle', 'tit', 'titfuck', 'tits', 'titt', 'tittie5', 'tittiefucker', 'titties', 'tittyfuck', 'tittywank', 'titwank', 'tosser', 'turd', 'tw4t', 'twat', 'twathead', 'twatty', 'twunt', 'twunter', 'v14gra', 'v1gra', 'vagina', 'viagra', 'vulva', 'w00se', 'wang', 'wank', 'wanker', 'wanky', 'whoar', 'whore', 'willies', 'willy', 'xrated', 'xxx']\n"
          ],
          "name": "stdout"
        }
      ]
    },
    {
      "cell_type": "code",
      "metadata": {
        "id": "aXg62B0l_P0W",
        "outputId": "6abf3a99-8f9d-48a7-9ce3-d63dfc27e79e",
        "colab": {
          "base_uri": "https://localhost:8080/"
        }
      },
      "source": [
        "# some random text when searched google with keywords \"paragraph with swear words\"\n",
        "text = \"\"\"‘Aye, you’re not gonnae be the smart cunt in there!’ the policeman says.\n",
        "\n",
        "Focus on his face. It’ll help keep the shrinking back. \n",
        "He’s got green eyes, a squint nose, and the hair on his neck and forearms is thick as fucking pelt. \n",
        "You’re giving me the boak, fuck-pus. He’s loving this. \n",
        "They’re wanted my banged up away from town and their stations, for how long? They think if they put me far enough away then I cannae get in trouble. \n",
        "Aye. Okay. There’s still buses, fanny-heads, I umnay behind locked doors yet.\n",
        "The policeman is watching me in his rear-view mirror. He gave me a stoater of a slap yesterday. Old radgio el fuckmong, I call him, old cunt-pus himself.\"\"\"\n",
        "\n",
        "def check_swear(given_string):\n",
        "  \"\"\"return number of swear word in given text\"\"\"\n",
        "  swear_word = [x for x in given_string.split() if x in swear_words]\n",
        "  return len(swear_word),swear_word\n",
        "\n",
        "count, words = check_swear(text)\n",
        "print(count)\n",
        "print(words)\n",
        "# only two.  :)"
      ],
      "execution_count": 74,
      "outputs": [
        {
          "output_type": "stream",
          "text": [
            "2\n",
            "['cunt', 'fucking']\n"
          ],
          "name": "stdout"
        }
      ]
    },
    {
      "cell_type": "markdown",
      "metadata": {
        "id": "JzboBfmlAlE_"
      },
      "source": [
        "**Question 4**\n",
        "\n",
        "Using reduce functions:\n",
        "\n",
        "    4.1. add only even numbers in a list\n",
        "    4.2. find the biggest character in a string (printable ascii characters)\n",
        "    4.3. adds every 3rd number in a list\n"
      ]
    },
    {
      "cell_type": "code",
      "metadata": {
        "id": "Dnz4NLkPAjJH"
      },
      "source": [
        "## 4.1 \n",
        "from functools import reduce\n",
        "def add_even(given_list):\n",
        "  return reduce(lambda a, b: a + b, list(filter(lambda x: x % 2 == 0, given_list)))\n"
      ],
      "execution_count": 77,
      "outputs": []
    },
    {
      "cell_type": "code",
      "metadata": {
        "id": "3xR_BLcgBgg7",
        "outputId": "ca85f941-3aca-4f50-c54f-3614c6aaa984",
        "colab": {
          "base_uri": "https://localhost:8080/"
        }
      },
      "source": [
        "print(add_even(range(10)))"
      ],
      "execution_count": 78,
      "outputs": [
        {
          "output_type": "stream",
          "text": [
            "20\n"
          ],
          "name": "stdout"
        }
      ]
    },
    {
      "cell_type": "code",
      "metadata": {
        "id": "O5so6xKABnto"
      },
      "source": [
        "## 4.2 \n",
        "def biggest(given_list):\n",
        "  return reduce(lambda a, b: max(a,b), given_list)"
      ],
      "execution_count": 81,
      "outputs": []
    },
    {
      "cell_type": "code",
      "metadata": {
        "id": "IY_cZM1_Bu0Y",
        "outputId": "d582d9b6-8462-4b79-a729-37f9c6073f65",
        "colab": {
          "base_uri": "https://localhost:8080/"
        }
      },
      "source": [
        "print(biggest(\"A12az{}\"))\n",
        "# https://www.ascii-code.com/"
      ],
      "execution_count": 83,
      "outputs": [
        {
          "output_type": "stream",
          "text": [
            "}\n"
          ],
          "name": "stdout"
        }
      ]
    },
    {
      "cell_type": "code",
      "metadata": {
        "id": "2sDVUDAlCAeY"
      },
      "source": [
        "## 4.3 \n",
        "def add_third(given_list):\n",
        "  print(list(given_list[0::3]))\n",
        "  return reduce(lambda a, b: a + b, given_list[0::3])\n",
        "#https://stackoverflow.com/questions/1403674/pythonic-way-to-return-list-of-every-nth-item-in-a-larger-list "
      ],
      "execution_count": 102,
      "outputs": []
    },
    {
      "cell_type": "code",
      "metadata": {
        "id": "2TUGkjAzCP8x",
        "outputId": "f0871319-bb73-446d-ad29-eb4e1321d271",
        "colab": {
          "base_uri": "https://localhost:8080/"
        }
      },
      "source": [
        "print(add_third(range(15)))"
      ],
      "execution_count": 109,
      "outputs": [
        {
          "output_type": "stream",
          "text": [
            "[0, 3, 6, 9, 12]\n",
            "30\n"
          ],
          "name": "stdout"
        }
      ]
    },
    {
      "cell_type": "markdown",
      "metadata": {
        "id": "mj_vZ64EEhjE"
      },
      "source": [
        "**Question 5**\n",
        "\n",
        "Using randint, random.choice and list comprehensions, write an expression that generates 15 random KADDAADDDD number plates, where KA is fixed, D stands for a digit, and A stands for Capital alphabets. 10<<DD<<99 & 1000<<DDDD<<9999"
      ]
    },
    {
      "cell_type": "code",
      "metadata": {
        "id": "syWY04fmCqfL"
      },
      "source": [
        "import random\n",
        "import string\n",
        "\n",
        "def generate_random_string():\n",
        "  digits_2 = random.randint(10,99)\n",
        "  chars = [random.choice(string.ascii_uppercase) for _ in range(2)]\n",
        "  digits_4 = random.randint(1000, 9999)\n",
        "  gen_string  = 'KA'+str(digits_2)+\"\".join(x for x in chars)+str(digits_4)\n",
        "  return gen_string"
      ],
      "execution_count": 110,
      "outputs": []
    },
    {
      "cell_type": "code",
      "metadata": {
        "id": "VxgrNHn6FdrW",
        "outputId": "36153f55-e049-4485-fed5-995625d9ec8f",
        "colab": {
          "base_uri": "https://localhost:8080/"
        }
      },
      "source": [
        "## test 5\n",
        "for x in range(15):\n",
        "  print(generate_random_string())"
      ],
      "execution_count": 111,
      "outputs": [
        {
          "output_type": "stream",
          "text": [
            "KA92DX2589\n",
            "KA47NA7002\n",
            "KA85GU6175\n",
            "KA19JX7304\n",
            "KA73XQ9026\n",
            "KA87UU7875\n",
            "KA42XP7855\n",
            "KA66FH5800\n",
            "KA95MC4549\n",
            "KA32VW9881\n",
            "KA94PF7444\n",
            "KA44SI2187\n",
            "KA65LV3853\n",
            "KA81YW4195\n",
            "KA84NP8406\n"
          ],
          "name": "stdout"
        }
      ]
    },
    {
      "cell_type": "markdown",
      "metadata": {
        "id": "24m50RVJFkgT"
      },
      "source": [
        "**Question 6:** \n",
        "\n",
        "Write the above again from scratch where KA can be changed to DL, and 1000/9999 ranges can be provided"
      ]
    },
    {
      "cell_type": "code",
      "metadata": {
        "id": "JLGuOaacFjxL"
      },
      "source": [
        "def generate_random_string_2(state_code=\"KA\",range_start=1000,range_end=9999):\n",
        "  digits_2 = random.randint(10,99)\n",
        "  chars = [random.choice(string.ascii_uppercase) for _ in range(2)]\n",
        "  digits_4 = random.randint(range_start, range_end)\n",
        "  gen_string  = state_code + str(digits_2) + \"\".join(x for x in chars) + str(digits_4)\n",
        "  return gen_string"
      ],
      "execution_count": 113,
      "outputs": []
    },
    {
      "cell_type": "code",
      "metadata": {
        "id": "TyniedXoGSBN",
        "outputId": "c3f0c3a7-2737-4fd5-bccb-11f172d5df10",
        "colab": {
          "base_uri": "https://localhost:8080/"
        }
      },
      "source": [
        "## test 6\n",
        "for x in range(15):\n",
        "  print(generate_random_string_2('KA', range_start = 1000, range_end = 9999))\n",
        "\n",
        "print(\"-----------------------------\")\n",
        "\n",
        "for x in range(15):\n",
        "  print(generate_random_string_2('DL', range_start = 2000, range_end = 9999))"
      ],
      "execution_count": 117,
      "outputs": [
        {
          "output_type": "stream",
          "text": [
            "KA23RF8626\n",
            "KA36SA5342\n",
            "KA86ME9966\n",
            "KA51LJ7776\n",
            "KA44ZV7804\n",
            "KA70TE3145\n",
            "KA75WI2935\n",
            "KA58NH9989\n",
            "KA96YQ3820\n",
            "KA30LW8108\n",
            "KA35NN4632\n",
            "KA24YG2472\n",
            "KA32GE6194\n",
            "KA50LW3395\n",
            "KA80PI4763\n",
            "-----------------------------\n",
            "DL38ZM7488\n",
            "DL62HG2811\n",
            "DL78CA6311\n",
            "DL75QN7797\n",
            "DL20AG8179\n",
            "DL47OV4374\n",
            "DL13FL8100\n",
            "DL73IM4804\n",
            "DL55WU6077\n",
            "DL67PA9933\n",
            "DL37UZ5211\n",
            "DL37GH5846\n",
            "DL20LX4589\n",
            "DL38IF2305\n",
            "DL81AQ5918\n"
          ],
          "name": "stdout"
        }
      ]
    }
  ]
}